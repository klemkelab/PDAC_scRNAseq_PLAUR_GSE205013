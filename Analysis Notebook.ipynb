{
 "cells": [
  {
   "cell_type": "markdown",
   "metadata": {},
   "source": [
    "### Single-cell RNA sequencing reveals the effects of chemotherapy on human pancreatic adenocarcinoma and its tumor microenvironment. Nature Communications, 2023, 14(1): 797. doi: 10.1038/s41467-023-36296-4. GSE205013. Patient Samples.\n",
    "### https://pubmed.ncbi.nlm.nih.gov/36781852/\n",
    "\n"
   ]
  },
  {
   "cell_type": "markdown",
   "metadata": {},
   "source": []
  },
  {
   "cell_type": "code",
   "execution_count": 29,
   "metadata": {},
   "outputs": [],
   "source": [
    "import scanpy as sc\n",
    "import scvi\n",
    "import numpy as np\n",
    "import pandas as pd\n",
    "import os\n",
    "import leidenalg\n",
    "from scipy.sparse import csr_matrix"
   ]
  },
  {
   "cell_type": "code",
   "execution_count": 2,
   "metadata": {},
   "outputs": [],
   "source": [
    "base_data_path = \"/Users/klemkelab/Epithelial_and_Macrophage_specific_scRNAseq/data\""
   ]
  },
  {
   "cell_type": "code",
   "execution_count": 3,
   "metadata": {},
   "outputs": [
    {
     "data": {
      "text/html": [
       "<div>\n",
       "<style scoped>\n",
       "    .dataframe tbody tr th:only-of-type {\n",
       "        vertical-align: middle;\n",
       "    }\n",
       "\n",
       "    .dataframe tbody tr th {\n",
       "        vertical-align: top;\n",
       "    }\n",
       "\n",
       "    .dataframe thead th {\n",
       "        text-align: right;\n",
       "    }\n",
       "</style>\n",
       "<table border=\"1\" class=\"dataframe\">\n",
       "  <thead>\n",
       "    <tr style=\"text-align: right;\">\n",
       "      <th></th>\n",
       "      <th>0</th>\n",
       "    </tr>\n",
       "  </thead>\n",
       "  <tbody>\n",
       "    <tr>\n",
       "      <th>0</th>\n",
       "      <td>FAU</td>\n",
       "    </tr>\n",
       "    <tr>\n",
       "      <th>1</th>\n",
       "      <td>MRPL13</td>\n",
       "    </tr>\n",
       "    <tr>\n",
       "      <th>2</th>\n",
       "      <td>RPL10</td>\n",
       "    </tr>\n",
       "    <tr>\n",
       "      <th>3</th>\n",
       "      <td>RPL10A</td>\n",
       "    </tr>\n",
       "    <tr>\n",
       "      <th>4</th>\n",
       "      <td>RPL10L</td>\n",
       "    </tr>\n",
       "    <tr>\n",
       "      <th>...</th>\n",
       "      <td>...</td>\n",
       "    </tr>\n",
       "    <tr>\n",
       "      <th>83</th>\n",
       "      <td>RPS9</td>\n",
       "    </tr>\n",
       "    <tr>\n",
       "      <th>84</th>\n",
       "      <td>RPSA</td>\n",
       "    </tr>\n",
       "    <tr>\n",
       "      <th>85</th>\n",
       "      <td>RSL24D1</td>\n",
       "    </tr>\n",
       "    <tr>\n",
       "      <th>86</th>\n",
       "      <td>RSL24D1P11</td>\n",
       "    </tr>\n",
       "    <tr>\n",
       "      <th>87</th>\n",
       "      <td>UBA52</td>\n",
       "    </tr>\n",
       "  </tbody>\n",
       "</table>\n",
       "<p>88 rows × 1 columns</p>\n",
       "</div>"
      ],
      "text/plain": [
       "             0\n",
       "0          FAU\n",
       "1       MRPL13\n",
       "2        RPL10\n",
       "3       RPL10A\n",
       "4       RPL10L\n",
       "..         ...\n",
       "83        RPS9\n",
       "84        RPSA\n",
       "85     RSL24D1\n",
       "86  RSL24D1P11\n",
       "87       UBA52\n",
       "\n",
       "[88 rows x 1 columns]"
      ]
     },
     "execution_count": 3,
     "metadata": {},
     "output_type": "execute_result"
    }
   ],
   "source": [
    "ribo_url = \"http://software.broadinstitute.org/gsea/msigdb/download_geneset.jsp?geneSetName=KEGG_RIBOSOME&fileType=txt\"\n",
    "ribo_genes = pd.read_table(ribo_url, skiprows=2, header = None)\n",
    "ribo_genes"
   ]
  },
  {
   "cell_type": "code",
   "execution_count": 4,
   "metadata": {},
   "outputs": [
    {
     "name": "stdout",
     "output_type": "stream",
     "text": [
      "MPS is available\n",
      "Is MPS device in use? True\n"
     ]
    }
   ],
   "source": [
    "import torch\n",
    "\n",
    "if torch.backends.mps.is_available():\n",
    "    print(\"MPS is available\")\n",
    "    print(\"Is MPS device in use?\", torch.backends.mps.is_built())\n",
    "else:\n",
    "    print(\"MPS is not available\")\n"
   ]
  },
  {
   "cell_type": "code",
   "execution_count": 13,
   "metadata": {},
   "outputs": [],
   "source": [
    "import importlib\n",
    "import utilities\n",
    "importlib.reload(utilities)\n",
    "from utilities import pp2 , create_anndata_object, gene_check, write_anndata, read_anndata , remove_ribosomal_genes"
   ]
  },
  {
   "cell_type": "code",
   "execution_count": null,
   "metadata": {},
   "outputs": [],
   "source": [
    "adata_files1 = create_anndata_object(base_data_path, 'Treated', pp2, ribo_genes)"
   ]
  },
  {
   "cell_type": "code",
   "execution_count": 6,
   "metadata": {},
   "outputs": [
    {
     "data": {
      "text/plain": [
       "AnnData object with n_obs × n_vars = 55987 × 36601\n",
       "    obs: 'Sample', 'doublet', 'n_genes_by_counts', 'total_counts', 'total_counts_mt', 'pct_counts_mt', 'total_counts_ribo', 'pct_counts_ribo'"
      ]
     },
     "execution_count": 6,
     "metadata": {},
     "output_type": "execute_result"
    }
   ],
   "source": [
    "adata_files1"
   ]
  },
  {
   "cell_type": "code",
   "execution_count": null,
   "metadata": {},
   "outputs": [],
   "source": [
    "adata_files2 = create_anndata_object(base_data_path, 'Untreated', pp2, ribo_genes)\n",
    "adata_files2"
   ]
  },
  {
   "cell_type": "code",
   "execution_count": 9,
   "metadata": {},
   "outputs": [
    {
     "data": {
      "text/plain": [
       "AnnData object with n_obs × n_vars = 24579 × 36601\n",
       "    obs: 'Sample', 'doublet', 'n_genes_by_counts', 'total_counts', 'total_counts_mt', 'pct_counts_mt', 'total_counts_ribo', 'pct_counts_ribo'"
      ]
     },
     "execution_count": 9,
     "metadata": {},
     "output_type": "execute_result"
    }
   ],
   "source": [
    "adata_files2"
   ]
  },
  {
   "cell_type": "code",
   "execution_count": 14,
   "metadata": {},
   "outputs": [
    {
     "name": "stdout",
     "output_type": "stream",
     "text": [
      "Total EPCAM genes : 55987\n",
      "Total AR genes : 55987\n"
     ]
    }
   ],
   "source": [
    "gene_check(adata_files1, \"EPCAM\")\n",
    "gene_check(adata_files1, \"AR\")"
   ]
  },
  {
   "cell_type": "code",
   "execution_count": 15,
   "metadata": {},
   "outputs": [
    {
     "name": "stdout",
     "output_type": "stream",
     "text": [
      "Total EPCAM genes : 24579\n",
      "Total AR genes : 24579\n"
     ]
    }
   ],
   "source": [
    "gene_check(adata_files2, \"EPCAM\")\n",
    "gene_check(adata_files2, \"AR\")"
   ]
  },
  {
   "cell_type": "code",
   "execution_count": 16,
   "metadata": {},
   "outputs": [
    {
     "name": "stderr",
     "output_type": "stream",
     "text": [
      "/Users/klemkelab/Epithelial_and_Macrophage_specific_scRNAseq/.venv/lib/python3.12/site-packages/anndata/_core/anndata.py:1754: UserWarning: Observation names are not unique. To make them unique, call `.obs_names_make_unique`.\n",
      "  utils.warn_names_duplicates(\"obs\")\n"
     ]
    },
    {
     "data": {
      "text/plain": [
       "AnnData object with n_obs × n_vars = 80566 × 36601\n",
       "    obs: 'Sample', 'doublet', 'n_genes_by_counts', 'total_counts', 'total_counts_mt', 'pct_counts_mt', 'total_counts_ribo', 'pct_counts_ribo'"
      ]
     },
     "execution_count": 16,
     "metadata": {},
     "output_type": "execute_result"
    }
   ],
   "source": [
    "adata = sc.concat([adata_files1, adata_files2])\n",
    "adata"
   ]
  },
  {
   "cell_type": "code",
   "execution_count": 17,
   "metadata": {},
   "outputs": [],
   "source": [
    "write_anndata(base_data_path, 'no_gene_filtered.h5ad', adata)"
   ]
  },
  {
   "cell_type": "code",
   "execution_count": 18,
   "metadata": {},
   "outputs": [
    {
     "name": "stderr",
     "output_type": "stream",
     "text": [
      "/Users/klemkelab/Epithelial_and_Macrophage_specific_scRNAseq/.venv/lib/python3.12/site-packages/anndata/_core/anndata.py:1754: UserWarning: Observation names are not unique. To make them unique, call `.obs_names_make_unique`.\n",
      "  utils.warn_names_duplicates(\"obs\")\n"
     ]
    }
   ],
   "source": [
    "adata = read_anndata(base_data_path, 'no_gene_filtered.h5ad')"
   ]
  },
  {
   "cell_type": "code",
   "execution_count": 19,
   "metadata": {},
   "outputs": [
    {
     "name": "stderr",
     "output_type": "stream",
     "text": [
      "/Users/klemkelab/Epithelial_and_Macrophage_specific_scRNAseq/.venv/lib/python3.12/site-packages/anndata/_core/anndata.py:1754: UserWarning: Observation names are not unique. To make them unique, call `.obs_names_make_unique`.\n",
      "  utils.warn_names_duplicates(\"obs\")\n",
      "/Users/klemkelab/Epithelial_and_Macrophage_specific_scRNAseq/.venv/lib/python3.12/site-packages/anndata/_core/anndata.py:1754: UserWarning: Observation names are not unique. To make them unique, call `.obs_names_make_unique`.\n",
      "  utils.warn_names_duplicates(\"obs\")\n",
      "/Users/klemkelab/Epithelial_and_Macrophage_specific_scRNAseq/.venv/lib/python3.12/site-packages/anndata/_core/anndata.py:1754: UserWarning: Observation names are not unique. To make them unique, call `.obs_names_make_unique`.\n",
      "  utils.warn_names_duplicates(\"obs\")\n"
     ]
    },
    {
     "data": {
      "text/plain": [
       "AnnData object with n_obs × n_vars = 73580 × 26911\n",
       "    obs: 'Sample', 'doublet', 'n_genes_by_counts', 'total_counts', 'total_counts_mt', 'pct_counts_mt', 'total_counts_ribo', 'pct_counts_ribo', 'n_genes'\n",
       "    var: 'n_cells'"
      ]
     },
     "execution_count": 19,
     "metadata": {},
     "output_type": "execute_result"
    }
   ],
   "source": [
    "sc.pp.filter_cells(adata, min_genes=200) #get rid of cells with fewer than 200 genes\n",
    "sc.pp.filter_genes(adata, min_cells=10) #get rid of genes that are found in fewer than 10 cells\n",
    "adata"
   ]
  },
  {
   "cell_type": "code",
   "execution_count": 20,
   "metadata": {},
   "outputs": [
    {
     "data": {
      "text/plain": [
       "<Compressed Sparse Row sparse matrix of dtype 'float32'\n",
       "\twith 132124284 stored elements and shape (73580, 26911)>"
      ]
     },
     "execution_count": 20,
     "metadata": {},
     "output_type": "execute_result"
    }
   ],
   "source": [
    "adata.X = csr_matrix(adata.X)\n",
    "adata.X"
   ]
  },
  {
   "cell_type": "code",
   "execution_count": 21,
   "metadata": {},
   "outputs": [],
   "source": [
    "write_anndata(base_data_path, 'all_combined_filtered.h5ad', adata)"
   ]
  },
  {
   "cell_type": "code",
   "execution_count": 22,
   "metadata": {},
   "outputs": [
    {
     "name": "stderr",
     "output_type": "stream",
     "text": [
      "/Users/klemkelab/Epithelial_and_Macrophage_specific_scRNAseq/.venv/lib/python3.12/site-packages/anndata/_core/anndata.py:1754: UserWarning: Observation names are not unique. To make them unique, call `.obs_names_make_unique`.\n",
      "  utils.warn_names_duplicates(\"obs\")\n"
     ]
    }
   ],
   "source": [
    "adata = read_anndata(base_data_path, 'all_combined_filtered.h5ad')"
   ]
  },
  {
   "cell_type": "code",
   "execution_count": 23,
   "metadata": {},
   "outputs": [
    {
     "name": "stdout",
     "output_type": "stream",
     "text": [
      "Remaining ribosomal genes: 0\n"
     ]
    }
   ],
   "source": [
    "adata = remove_ribosomal_genes(adata)"
   ]
  },
  {
   "cell_type": "code",
   "execution_count": 25,
   "metadata": {},
   "outputs": [],
   "source": [
    "adata.obs_names_make_unique()\n",
    "adata.var_names_make_unique()"
   ]
  },
  {
   "cell_type": "code",
   "execution_count": 26,
   "metadata": {},
   "outputs": [
    {
     "data": {
      "text/html": [
       "<div>\n",
       "<style scoped>\n",
       "    .dataframe tbody tr th:only-of-type {\n",
       "        vertical-align: middle;\n",
       "    }\n",
       "\n",
       "    .dataframe tbody tr th {\n",
       "        vertical-align: top;\n",
       "    }\n",
       "\n",
       "    .dataframe thead th {\n",
       "        text-align: right;\n",
       "    }\n",
       "</style>\n",
       "<table border=\"1\" class=\"dataframe\">\n",
       "  <thead>\n",
       "    <tr style=\"text-align: right;\">\n",
       "      <th></th>\n",
       "      <th>Sample</th>\n",
       "      <th>doublet</th>\n",
       "      <th>n_genes_by_counts</th>\n",
       "      <th>total_counts</th>\n",
       "      <th>total_counts_mt</th>\n",
       "      <th>pct_counts_mt</th>\n",
       "      <th>total_counts_ribo</th>\n",
       "      <th>pct_counts_ribo</th>\n",
       "      <th>n_genes</th>\n",
       "    </tr>\n",
       "  </thead>\n",
       "  <tbody>\n",
       "    <tr>\n",
       "      <th>AAACCCACAACATACC-1</th>\n",
       "      <td>Treated</td>\n",
       "      <td>False</td>\n",
       "      <td>733</td>\n",
       "      <td>1154.0</td>\n",
       "      <td>169.0</td>\n",
       "      <td>14.644713</td>\n",
       "      <td>124.0</td>\n",
       "      <td>10.745234</td>\n",
       "      <td>733</td>\n",
       "    </tr>\n",
       "    <tr>\n",
       "      <th>AAACCCACATCTATCT-1</th>\n",
       "      <td>Treated</td>\n",
       "      <td>False</td>\n",
       "      <td>578</td>\n",
       "      <td>928.0</td>\n",
       "      <td>120.0</td>\n",
       "      <td>12.931034</td>\n",
       "      <td>142.0</td>\n",
       "      <td>15.301723</td>\n",
       "      <td>578</td>\n",
       "    </tr>\n",
       "    <tr>\n",
       "      <th>AAACCCACATGATGCT-1</th>\n",
       "      <td>Treated</td>\n",
       "      <td>False</td>\n",
       "      <td>4646</td>\n",
       "      <td>20165.0</td>\n",
       "      <td>1110.0</td>\n",
       "      <td>5.504587</td>\n",
       "      <td>1974.0</td>\n",
       "      <td>9.789239</td>\n",
       "      <td>4646</td>\n",
       "    </tr>\n",
       "    <tr>\n",
       "      <th>AAACCCAGTATCGTAC-1</th>\n",
       "      <td>Treated</td>\n",
       "      <td>False</td>\n",
       "      <td>677</td>\n",
       "      <td>1050.0</td>\n",
       "      <td>129.0</td>\n",
       "      <td>12.285714</td>\n",
       "      <td>106.0</td>\n",
       "      <td>10.095238</td>\n",
       "      <td>677</td>\n",
       "    </tr>\n",
       "    <tr>\n",
       "      <th>AAACCCAGTCACCCTT-1</th>\n",
       "      <td>Treated</td>\n",
       "      <td>False</td>\n",
       "      <td>845</td>\n",
       "      <td>1466.0</td>\n",
       "      <td>217.0</td>\n",
       "      <td>14.802183</td>\n",
       "      <td>137.0</td>\n",
       "      <td>9.345157</td>\n",
       "      <td>845</td>\n",
       "    </tr>\n",
       "    <tr>\n",
       "      <th>...</th>\n",
       "      <td>...</td>\n",
       "      <td>...</td>\n",
       "      <td>...</td>\n",
       "      <td>...</td>\n",
       "      <td>...</td>\n",
       "      <td>...</td>\n",
       "      <td>...</td>\n",
       "      <td>...</td>\n",
       "      <td>...</td>\n",
       "    </tr>\n",
       "    <tr>\n",
       "      <th>TTTGGTTGTTCCACGG-1</th>\n",
       "      <td>Untreated</td>\n",
       "      <td>False</td>\n",
       "      <td>1671</td>\n",
       "      <td>3575.0</td>\n",
       "      <td>95.0</td>\n",
       "      <td>2.657343</td>\n",
       "      <td>477.0</td>\n",
       "      <td>13.342658</td>\n",
       "      <td>1671</td>\n",
       "    </tr>\n",
       "    <tr>\n",
       "      <th>TTTGTTGGTACCCGCA-1</th>\n",
       "      <td>Untreated</td>\n",
       "      <td>False</td>\n",
       "      <td>3727</td>\n",
       "      <td>14103.0</td>\n",
       "      <td>1531.0</td>\n",
       "      <td>10.855846</td>\n",
       "      <td>2064.0</td>\n",
       "      <td>14.635184</td>\n",
       "      <td>3727</td>\n",
       "    </tr>\n",
       "    <tr>\n",
       "      <th>TTTGTTGGTCGCATGC-1</th>\n",
       "      <td>Untreated</td>\n",
       "      <td>False</td>\n",
       "      <td>1750</td>\n",
       "      <td>3641.0</td>\n",
       "      <td>165.0</td>\n",
       "      <td>4.531722</td>\n",
       "      <td>404.0</td>\n",
       "      <td>11.095853</td>\n",
       "      <td>1750</td>\n",
       "    </tr>\n",
       "    <tr>\n",
       "      <th>TTTGTTGGTTCTCACC-1</th>\n",
       "      <td>Untreated</td>\n",
       "      <td>False</td>\n",
       "      <td>545</td>\n",
       "      <td>709.0</td>\n",
       "      <td>25.0</td>\n",
       "      <td>3.526093</td>\n",
       "      <td>73.0</td>\n",
       "      <td>10.296192</td>\n",
       "      <td>545</td>\n",
       "    </tr>\n",
       "    <tr>\n",
       "      <th>TTTGTTGTCATCGCCT-1</th>\n",
       "      <td>Untreated</td>\n",
       "      <td>False</td>\n",
       "      <td>938</td>\n",
       "      <td>1537.0</td>\n",
       "      <td>39.0</td>\n",
       "      <td>2.537410</td>\n",
       "      <td>236.0</td>\n",
       "      <td>15.354588</td>\n",
       "      <td>938</td>\n",
       "    </tr>\n",
       "  </tbody>\n",
       "</table>\n",
       "<p>73580 rows × 9 columns</p>\n",
       "</div>"
      ],
      "text/plain": [
       "                       Sample  doublet  n_genes_by_counts  total_counts  \\\n",
       "AAACCCACAACATACC-1    Treated    False                733        1154.0   \n",
       "AAACCCACATCTATCT-1    Treated    False                578         928.0   \n",
       "AAACCCACATGATGCT-1    Treated    False               4646       20165.0   \n",
       "AAACCCAGTATCGTAC-1    Treated    False                677        1050.0   \n",
       "AAACCCAGTCACCCTT-1    Treated    False                845        1466.0   \n",
       "...                       ...      ...                ...           ...   \n",
       "TTTGGTTGTTCCACGG-1  Untreated    False               1671        3575.0   \n",
       "TTTGTTGGTACCCGCA-1  Untreated    False               3727       14103.0   \n",
       "TTTGTTGGTCGCATGC-1  Untreated    False               1750        3641.0   \n",
       "TTTGTTGGTTCTCACC-1  Untreated    False                545         709.0   \n",
       "TTTGTTGTCATCGCCT-1  Untreated    False                938        1537.0   \n",
       "\n",
       "                    total_counts_mt  pct_counts_mt  total_counts_ribo  \\\n",
       "AAACCCACAACATACC-1            169.0      14.644713              124.0   \n",
       "AAACCCACATCTATCT-1            120.0      12.931034              142.0   \n",
       "AAACCCACATGATGCT-1           1110.0       5.504587             1974.0   \n",
       "AAACCCAGTATCGTAC-1            129.0      12.285714              106.0   \n",
       "AAACCCAGTCACCCTT-1            217.0      14.802183              137.0   \n",
       "...                             ...            ...                ...   \n",
       "TTTGGTTGTTCCACGG-1             95.0       2.657343              477.0   \n",
       "TTTGTTGGTACCCGCA-1           1531.0      10.855846             2064.0   \n",
       "TTTGTTGGTCGCATGC-1            165.0       4.531722              404.0   \n",
       "TTTGTTGGTTCTCACC-1             25.0       3.526093               73.0   \n",
       "TTTGTTGTCATCGCCT-1             39.0       2.537410              236.0   \n",
       "\n",
       "                    pct_counts_ribo  n_genes  \n",
       "AAACCCACAACATACC-1        10.745234      733  \n",
       "AAACCCACATCTATCT-1        15.301723      578  \n",
       "AAACCCACATGATGCT-1         9.789239     4646  \n",
       "AAACCCAGTATCGTAC-1        10.095238      677  \n",
       "AAACCCAGTCACCCTT-1         9.345157      845  \n",
       "...                             ...      ...  \n",
       "TTTGGTTGTTCCACGG-1        13.342658     1671  \n",
       "TTTGTTGGTACCCGCA-1        14.635184     3727  \n",
       "TTTGTTGGTCGCATGC-1        11.095853     1750  \n",
       "TTTGTTGGTTCTCACC-1        10.296192      545  \n",
       "TTTGTTGTCATCGCCT-1        15.354588      938  \n",
       "\n",
       "[73580 rows x 9 columns]"
      ]
     },
     "execution_count": 26,
     "metadata": {},
     "output_type": "execute_result"
    }
   ],
   "source": [
    "adata.obs"
   ]
  },
  {
   "cell_type": "code",
   "execution_count": 27,
   "metadata": {},
   "outputs": [
    {
     "data": {
      "text/plain": [
       "<Compressed Sparse Row sparse matrix of dtype 'float32'\n",
       "\twith 127115755 stored elements and shape (73580, 26811)>"
      ]
     },
     "execution_count": 27,
     "metadata": {},
     "output_type": "execute_result"
    }
   ],
   "source": [
    "adata.X"
   ]
  },
  {
   "cell_type": "code",
   "execution_count": 28,
   "metadata": {},
   "outputs": [],
   "source": [
    "write_anndata(base_data_path, 'data_combined.h5ad', adata)"
   ]
  },
  {
   "cell_type": "code",
   "execution_count": null,
   "metadata": {},
   "outputs": [],
   "source": []
  }
 ],
 "metadata": {
  "kernelspec": {
   "display_name": ".venv",
   "language": "python",
   "name": "python3"
  },
  "language_info": {
   "codemirror_mode": {
    "name": "ipython",
    "version": 3
   },
   "file_extension": ".py",
   "mimetype": "text/x-python",
   "name": "python",
   "nbconvert_exporter": "python",
   "pygments_lexer": "ipython3",
   "version": "3.12.0"
  }
 },
 "nbformat": 4,
 "nbformat_minor": 2
}
