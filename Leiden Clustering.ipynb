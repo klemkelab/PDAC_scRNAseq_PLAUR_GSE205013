{
 "cells": [
  {
   "cell_type": "markdown",
   "metadata": {},
   "source": [
    "## Leiden Clustering"
   ]
  },
  {
   "cell_type": "markdown",
   "metadata": {},
   "source": []
  },
  {
   "cell_type": "code",
   "execution_count": 5,
   "metadata": {},
   "outputs": [],
   "source": [
    "# Importing libraries for single-cell RNA analysis and probabilistic modeling.\n",
    "import scanpy as sc\n",
    "import scvi\n"
   ]
  },
  {
   "cell_type": "code",
   "execution_count": 6,
   "metadata": {},
   "outputs": [],
   "source": [
    "# Defining the base path to the directory containing single-cell RNA-seq data.\n",
    "# Make sure to update this path according to your file system.\n",
    "base_data_path = \"/Users/klemkelab/PDAC_scRNAseq_PLAUR_GSE205013/data\"\n"
   ]
  },
  {
   "cell_type": "code",
   "execution_count": 7,
   "metadata": {},
   "outputs": [],
   "source": [
    "# Reading the combined single-cell RNA-seq data stored in an .h5ad file using Scanpy.\n",
    "# The file path is constructed using the base data path.\n",
    "adata = sc.read_h5ad(f'{base_data_path}/data_combined.h5ad')\n"
   ]
  },
  {
   "cell_type": "code",
   "execution_count": 9,
   "metadata": {},
   "outputs": [
    {
     "data": {
      "text/html": [
       "<div>\n",
       "<style scoped>\n",
       "    .dataframe tbody tr th:only-of-type {\n",
       "        vertical-align: middle;\n",
       "    }\n",
       "\n",
       "    .dataframe tbody tr th {\n",
       "        vertical-align: top;\n",
       "    }\n",
       "\n",
       "    .dataframe thead th {\n",
       "        text-align: right;\n",
       "    }\n",
       "</style>\n",
       "<table border=\"1\" class=\"dataframe\">\n",
       "  <thead>\n",
       "    <tr style=\"text-align: right;\">\n",
       "      <th></th>\n",
       "      <th>doublet</th>\n",
       "      <th>n_genes_by_counts</th>\n",
       "      <th>total_counts</th>\n",
       "      <th>total_counts_mt</th>\n",
       "      <th>pct_counts_mt</th>\n",
       "      <th>total_counts_ribo</th>\n",
       "      <th>pct_counts_ribo</th>\n",
       "      <th>n_genes</th>\n",
       "    </tr>\n",
       "    <tr>\n",
       "      <th>Sample</th>\n",
       "      <th></th>\n",
       "      <th></th>\n",
       "      <th></th>\n",
       "      <th></th>\n",
       "      <th></th>\n",
       "      <th></th>\n",
       "      <th></th>\n",
       "      <th></th>\n",
       "    </tr>\n",
       "  </thead>\n",
       "  <tbody>\n",
       "    <tr>\n",
       "      <th>Treated</th>\n",
       "      <td>50020</td>\n",
       "      <td>50020</td>\n",
       "      <td>50020</td>\n",
       "      <td>50020</td>\n",
       "      <td>50020</td>\n",
       "      <td>50020</td>\n",
       "      <td>50020</td>\n",
       "      <td>50020</td>\n",
       "    </tr>\n",
       "    <tr>\n",
       "      <th>Untreated</th>\n",
       "      <td>23560</td>\n",
       "      <td>23560</td>\n",
       "      <td>23560</td>\n",
       "      <td>23560</td>\n",
       "      <td>23560</td>\n",
       "      <td>23560</td>\n",
       "      <td>23560</td>\n",
       "      <td>23560</td>\n",
       "    </tr>\n",
       "  </tbody>\n",
       "</table>\n",
       "</div>"
      ],
      "text/plain": [
       "           doublet  n_genes_by_counts  total_counts  total_counts_mt  \\\n",
       "Sample                                                                 \n",
       "Treated      50020              50020         50020            50020   \n",
       "Untreated    23560              23560         23560            23560   \n",
       "\n",
       "           pct_counts_mt  total_counts_ribo  pct_counts_ribo  n_genes  \n",
       "Sample                                                                 \n",
       "Treated            50020              50020            50020    50020  \n",
       "Untreated          23560              23560            23560    23560  "
      ]
     },
     "execution_count": 9,
     "metadata": {},
     "output_type": "execute_result"
    }
   ],
   "source": [
    "# Grouping the observation metadata in the AnnData object by 'Sample' and counting the number of observations per sample.\n",
    "# The 'observed' parameter is set to False to retain the current behavior and silence the warning.\n",
    "adata.obs.groupby('Sample', observed=False).count()\n"
   ]
  },
  {
   "cell_type": "code",
   "execution_count": 10,
   "metadata": {},
   "outputs": [],
   "source": [
    "# Creating a new layer 'counts' in the AnnData object by making a copy of the original data matrix (adata.X) to preserve raw count data.\n",
    "adata.layers['counts'] = adata.X.copy()\n"
   ]
  },
  {
   "cell_type": "code",
   "execution_count": 11,
   "metadata": {},
   "outputs": [],
   "source": [
    "# Normalizing the total counts per cell so that each cell has a total count of 10,000. This makes the data comparable across cells.\n",
    "sc.pp.normalize_total(adata, target_sum=1e4)\n",
    "\n",
    "# Applying a logarithmic transformation (log1p) to the data to stabilize variance and make the data more normally distributed.\n",
    "sc.pp.log1p(adata)\n",
    "\n",
    "# Storing the preprocessed (log-normalized) data in the raw attribute of the AnnData object, preserving it for future use.\n",
    "adata.raw = adata\n"
   ]
  },
  {
   "cell_type": "code",
   "execution_count": 12,
   "metadata": {},
   "outputs": [
    {
     "data": {
      "text/plain": [
       "AnnData object with n_obs × n_vars = 73580 × 26811\n",
       "    obs: 'Sample', 'doublet', 'n_genes_by_counts', 'total_counts', 'total_counts_mt', 'pct_counts_mt', 'total_counts_ribo', 'pct_counts_ribo', 'n_genes'\n",
       "    var: 'n_cells'\n",
       "    uns: 'log1p'\n",
       "    layers: 'counts'"
      ]
     },
     "execution_count": 12,
     "metadata": {},
     "output_type": "execute_result"
    }
   ],
   "source": [
    "adata"
   ]
  },
  {
   "cell_type": "code",
   "execution_count": 16,
   "metadata": {},
   "outputs": [],
   "source": [
    "# Setup the AnnData object for use with scVI, specifying the layer where raw counts are stored ('counts').\n",
    "scvi.model.SCVI.setup_anndata(adata, layer='counts')\n",
    "\n",
    "# Initialize the SCVI model with the corrected AnnData object.\n",
    "model = scvi.model.SCVI(adata)\n"
   ]
  },
  {
   "cell_type": "code",
   "execution_count": 17,
   "metadata": {},
   "outputs": [
    {
     "name": "stdout",
     "output_type": "stream",
     "text": [
      "MPS backend is available for training on GPU!\n"
     ]
    }
   ],
   "source": [
    "import torch\n",
    "\n",
    "if torch.backends.mps.is_available():\n",
    "    print(\"MPS backend is available for training on GPU!\")\n",
    "else:\n",
    "    print(\"MPS backend is not available. Training will default to CPU.\")\n"
   ]
  },
  {
   "cell_type": "code",
   "execution_count": 20,
   "metadata": {},
   "outputs": [
    {
     "name": "stderr",
     "output_type": "stream",
     "text": [
      "GPU available: True (mps), used: False\n",
      "TPU available: False, using: 0 TPU cores\n",
      "HPU available: False, using: 0 HPUs\n",
      "/Users/klemkelab/PDAC_scRNAseq_PLAUR_GSE205013/.venv/lib/python3.12/site-packages/lightning/pytorch/trainer/setup.py:177: GPU available but not used. You can set it by doing `Trainer(accelerator='gpu')`.\n",
      "/Users/klemkelab/PDAC_scRNAseq_PLAUR_GSE205013/.venv/lib/python3.12/site-packages/lightning/pytorch/trainer/connectors/data_connector.py:424: The 'train_dataloader' does not have many workers which may be a bottleneck. Consider increasing the value of the `num_workers` argument` to `num_workers=11` in the `DataLoader` to improve performance.\n"
     ]
    },
    {
     "data": {
      "application/vnd.jupyter.widget-view+json": {
       "model_id": "bf6b8b52c46d420da6e2381582ebaaca",
       "version_major": 2,
       "version_minor": 0
      },
      "text/plain": [
       "Training:   0%|          | 0/109 [00:00<?, ?it/s]"
      ]
     },
     "metadata": {},
     "output_type": "display_data"
    },
    {
     "name": "stderr",
     "output_type": "stream",
     "text": [
      "`Trainer.fit` stopped: `max_epochs=109` reached.\n"
     ]
    }
   ],
   "source": [
    "import torch\n",
    "\n",
    "# Check if MPS is available and set the device to MPS, otherwise use CPU\n",
    "device = torch.device(\"mps\") if torch.backends.mps.is_available() else torch.device(\"cpu\")\n",
    "\n",
    "# Move the SCVI model to the MPS device\n",
    "model.to_device(device)\n",
    "\n",
    "# Train the SCVI model using the SCVI's internal .train() method\n",
    "model.train()\n"
   ]
  },
  {
   "cell_type": "code",
   "execution_count": 21,
   "metadata": {},
   "outputs": [],
   "source": [
    "# Save the trained SCVI model to the specified directory.\n",
    "# Note: Delete any previously saved model folder before running this code to avoid errors.\n",
    "model.save(f'{base_data_path}/model.model')\n"
   ]
  },
  {
   "cell_type": "code",
   "execution_count": 24,
   "metadata": {},
   "outputs": [],
   "source": [
    "# Extracting the latent representation (low-dimensional embeddings) from the trained SCVI model.\n",
    "# Storing it in the AnnData object's 'obsm' attribute under 'X_scVI' for downstream analysis, such as clustering or visualization.\n",
    "adata.obsm['X_scVI'] = model.get_latent_representation()\n"
   ]
  },
  {
   "cell_type": "code",
   "execution_count": 22,
   "metadata": {},
   "outputs": [],
   "source": [
    "# Extracting the normalized gene expression from the SCVI model, with a specified library size of 10,000,\n",
    "# and storing it in the AnnData object's layers under 'scvi_normalized' for further analysis or downstream tasks.\n",
    "adata.layers['scvi_normalized'] = model.get_normalized_expression(library_size=1e4)\n"
   ]
  },
  {
   "cell_type": "code",
   "execution_count": 26,
   "metadata": {},
   "outputs": [],
   "source": [
    "# Computing the neighborhood graph of cells using the latent representation 'X_scVI'.\n",
    "# This graph is used for clustering and other downstream analysis.\n",
    "sc.pp.neighbors(adata, use_rep='X_scVI')\n",
    "\n",
    "# Performing Leiden clustering with the 'igraph' backend and recommended parameters to avoid future warnings.\n",
    "# 'directed=False' is set to work with igraph's implementation.\n",
    "sc.tl.leiden(adata, resolution=0.1, flavor=\"igraph\", directed=False, n_iterations=2)\n"
   ]
  },
  {
   "cell_type": "code",
   "execution_count": 27,
   "metadata": {},
   "outputs": [],
   "source": [
    "# Saving the AnnData object, including all integrated data and results (such as Leiden clusters), \n",
    "# to an .h5ad file for later use or analysis.\n",
    "adata.write_h5ad(f'{base_data_path}/integrated_0.1.h5ad')\n"
   ]
  }
 ],
 "metadata": {
  "kernelspec": {
   "display_name": ".venv",
   "language": "python",
   "name": "python3"
  },
  "language_info": {
   "codemirror_mode": {
    "name": "ipython",
    "version": 3
   },
   "file_extension": ".py",
   "mimetype": "text/x-python",
   "name": "python",
   "nbconvert_exporter": "python",
   "pygments_lexer": "ipython3",
   "version": "3.12.0"
  }
 },
 "nbformat": 4,
 "nbformat_minor": 2
}
