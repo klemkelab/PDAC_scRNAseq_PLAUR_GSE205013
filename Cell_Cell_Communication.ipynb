{
 "cells": [
  {
   "cell_type": "code",
   "execution_count": 3,
   "metadata": {},
   "outputs": [],
   "source": [
    "import liana as li\n",
    "from liana.method import singlecellsignalr, connectome, cellphonedb, natmi, logfc, cellchat, geometric_mean"
   ]
  },
  {
   "cell_type": "code",
   "execution_count": 2,
   "metadata": {},
   "outputs": [
    {
     "data": {
      "text/html": [
       "<div>\n",
       "<style scoped>\n",
       "    .dataframe tbody tr th:only-of-type {\n",
       "        vertical-align: middle;\n",
       "    }\n",
       "\n",
       "    .dataframe tbody tr th {\n",
       "        vertical-align: top;\n",
       "    }\n",
       "\n",
       "    .dataframe thead th {\n",
       "        text-align: right;\n",
       "    }\n",
       "</style>\n",
       "<table border=\"1\" class=\"dataframe\">\n",
       "  <thead>\n",
       "    <tr style=\"text-align: right;\">\n",
       "      <th></th>\n",
       "      <th>Method Name</th>\n",
       "      <th>Magnitude Score</th>\n",
       "      <th>Specificity Score</th>\n",
       "      <th>Reference</th>\n",
       "    </tr>\n",
       "  </thead>\n",
       "  <tbody>\n",
       "    <tr>\n",
       "      <th>0</th>\n",
       "      <td>CellPhoneDB</td>\n",
       "      <td>lr_means</td>\n",
       "      <td>cellphone_pvals</td>\n",
       "      <td>Efremova, M., Vento-Tormo, M., Teichmann, S.A....</td>\n",
       "    </tr>\n",
       "    <tr>\n",
       "      <th>0</th>\n",
       "      <td>Connectome</td>\n",
       "      <td>expr_prod</td>\n",
       "      <td>scaled_weight</td>\n",
       "      <td>Raredon, M.S.B., Yang, J., Garritano, J., Wang...</td>\n",
       "    </tr>\n",
       "    <tr>\n",
       "      <th>0</th>\n",
       "      <td>log2FC</td>\n",
       "      <td>None</td>\n",
       "      <td>lr_logfc</td>\n",
       "      <td>Dimitrov, D., Türei, D., Garrido-Rodriguez, M....</td>\n",
       "    </tr>\n",
       "    <tr>\n",
       "      <th>0</th>\n",
       "      <td>NATMI</td>\n",
       "      <td>expr_prod</td>\n",
       "      <td>spec_weight</td>\n",
       "      <td>Hou, R., Denisenko, E., Ong, H.T., Ramilowski,...</td>\n",
       "    </tr>\n",
       "    <tr>\n",
       "      <th>0</th>\n",
       "      <td>SingleCellSignalR</td>\n",
       "      <td>lrscore</td>\n",
       "      <td>None</td>\n",
       "      <td>Cabello-Aguilar, S., Alame, M., Kon-Sun-Tack, ...</td>\n",
       "    </tr>\n",
       "    <tr>\n",
       "      <th>0</th>\n",
       "      <td>CellChat</td>\n",
       "      <td>lr_probs</td>\n",
       "      <td>cellchat_pvals</td>\n",
       "      <td>Jin, S., Guerrero-Juarez, C.F., Zhang, L., Cha...</td>\n",
       "    </tr>\n",
       "    <tr>\n",
       "      <th>0</th>\n",
       "      <td>Rank_Aggregate</td>\n",
       "      <td>magnitude_rank</td>\n",
       "      <td>specificity_rank</td>\n",
       "      <td>Dimitrov, D., Türei, D., Garrido-Rodriguez, M....</td>\n",
       "    </tr>\n",
       "    <tr>\n",
       "      <th>0</th>\n",
       "      <td>Geometric Mean</td>\n",
       "      <td>lr_gmeans</td>\n",
       "      <td>gmean_pvals</td>\n",
       "      <td>CellPhoneDBv2's permutation approach applied t...</td>\n",
       "    </tr>\n",
       "  </tbody>\n",
       "</table>\n",
       "</div>"
      ],
      "text/plain": [
       "         Method Name Magnitude Score Specificity Score  \\\n",
       "0        CellPhoneDB        lr_means   cellphone_pvals   \n",
       "0         Connectome       expr_prod     scaled_weight   \n",
       "0             log2FC            None          lr_logfc   \n",
       "0              NATMI       expr_prod       spec_weight   \n",
       "0  SingleCellSignalR         lrscore              None   \n",
       "0           CellChat        lr_probs    cellchat_pvals   \n",
       "0     Rank_Aggregate  magnitude_rank  specificity_rank   \n",
       "0     Geometric Mean       lr_gmeans       gmean_pvals   \n",
       "\n",
       "                                           Reference  \n",
       "0  Efremova, M., Vento-Tormo, M., Teichmann, S.A....  \n",
       "0  Raredon, M.S.B., Yang, J., Garritano, J., Wang...  \n",
       "0  Dimitrov, D., Türei, D., Garrido-Rodriguez, M....  \n",
       "0  Hou, R., Denisenko, E., Ong, H.T., Ramilowski,...  \n",
       "0  Cabello-Aguilar, S., Alame, M., Kon-Sun-Tack, ...  \n",
       "0  Jin, S., Guerrero-Juarez, C.F., Zhang, L., Cha...  \n",
       "0  Dimitrov, D., Türei, D., Garrido-Rodriguez, M....  \n",
       "0  CellPhoneDBv2's permutation approach applied t...  "
      ]
     },
     "execution_count": 2,
     "metadata": {},
     "output_type": "execute_result"
    }
   ],
   "source": [
    "# Display available methods in the liana package for ligand-receptor analysis\n",
    "# This shows the implemented computational methods that can be applied within liana.\n",
    "li.mt.show_methods()\n"
   ]
  },
  {
   "cell_type": "code",
   "execution_count": null,
   "metadata": {},
   "outputs": [],
   "source": []
  }
 ],
 "metadata": {
  "kernelspec": {
   "display_name": "liana_env",
   "language": "python",
   "name": "python3"
  },
  "language_info": {
   "codemirror_mode": {
    "name": "ipython",
    "version": 3
   },
   "file_extension": ".py",
   "mimetype": "text/x-python",
   "name": "python",
   "nbconvert_exporter": "python",
   "pygments_lexer": "ipython3",
   "version": "3.12.0"
  }
 },
 "nbformat": 4,
 "nbformat_minor": 2
}
